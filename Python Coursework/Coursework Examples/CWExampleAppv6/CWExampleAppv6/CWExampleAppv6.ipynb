{
 "cells": [
  {
   "cell_type": "markdown",
   "id": "dd0a57f2",
   "metadata": {},
   "source": [
    "## Lab8 : CW Example V6.0\n",
    "- Functions\n",
    "- List \n",
    "- File Operation\n",
    "- Python Module\n",
    "- Visualisation\n",
    "- DataFrames for Student Marks\n",
    "- SQL Database \n",
    "- GUI"
   ]
  },
  {
   "cell_type": "code",
   "execution_count": 1,
   "id": "096b6d12",
   "metadata": {
    "scrolled": true
   },
   "outputs": [],
   "source": [
    "#!pip install matplotlib # use the command if it is not installed already \n",
    "import matplotlib.pyplot as plt\n",
    "from IPython.display import clear_output\n",
    "import ipywidgets as widgets\n",
    "import fileOperations as fo"
   ]
  },
  {
   "cell_type": "code",
   "execution_count": 2,
   "id": "51d827e2",
   "metadata": {},
   "outputs": [],
   "source": [
    "#---------------------------------\n",
    "# GUI Design \n",
    "#--------------------------------\n",
    "\n",
    "# Define button click event handlers\n",
    "def submit_student_mark(b):\n",
    "    with output:\n",
    "        clear_output()\n",
    "        studentName = name_input.value\n",
    "        studentMark = int(mark_input.value)\n",
    "        dfMarks.loc[len(dfMarks)]=[studentName,studentMark]\n",
    "        display(dfMarks)\n",
    "        \n",
    "def on_get_mark_clicked(b):\n",
    "    # Displaying the widgets\n",
    "    input_form = widgets.VBox([name_input, mark_input, submit_button])\n",
    "    with output:\n",
    "        clear_output()\n",
    "        display(input_form)\n",
    "    \n",
    "def on_display_marks_clicked(b):\n",
    "    with output:\n",
    "        clear_output()\n",
    "        print(\"Student Marks\")\n",
    "        display(dfMarks)\n",
    "\n",
    "def on_load_clicked(b):\n",
    "    global dfMarks\n",
    "    with output:\n",
    "        clear_output()\n",
    "        #call the functionality of load_marks from fileOperation  \n",
    "        dfMarks=fo.load_marks()\n",
    "        display(dfMarks)\n",
    "        \n",
    "def on_save_clicked(b):\n",
    "    with output:\n",
    "        clear_output()\n",
    "        # call the functionality of save_marks from fileOperation\n",
    "        print(\"Save Marks Functionality\")\n",
    "        fo.save_marks(dfMarks)\n",
    "        \n",
    "def on_bar_chart_clicked(b):\n",
    "    with output:\n",
    "        clear_output()\n",
    "        dfMarks.plot(x=\"name\",y=\"mark\",kind=\"bar\",title=\"Student Marks\")\n",
    "        plt.show()\n",
    "  \n"
   ]
  },
  {
   "cell_type": "code",
   "execution_count": 3,
   "id": "e858513d",
   "metadata": {},
   "outputs": [
    {
     "data": {
      "application/vnd.jupyter.widget-view+json": {
       "model_id": "ca59662ff26e46748a03df4786498a7d",
       "version_major": 2,
       "version_minor": 0
      },
      "text/plain": [
       "HBox(children=(Button(description='Get Student Mark', style=ButtonStyle()), Button(description='Display Marks'…"
      ]
     },
     "metadata": {},
     "output_type": "display_data"
    },
    {
     "data": {
      "application/vnd.jupyter.widget-view+json": {
       "model_id": "3da7c680ced4477b8414b2bb53e871a1",
       "version_major": 2,
       "version_minor": 0
      },
      "text/plain": [
       "Output()"
      ]
     },
     "metadata": {},
     "output_type": "display_data"
    }
   ],
   "source": [
    "############\n",
    "#----Main--- \n",
    "############\n",
    "dfMarks=fo.load_marks()\n",
    "\n",
    "# Create buttons for each menu option\n",
    "btn_get_mark = widgets.Button(description=\"Get Student Mark\")\n",
    "btn_display_marks = widgets.Button(description=\"Display Marks\")\n",
    "btn_load = widgets.Button(description=\"Load Marks\")\n",
    "btn_save = widgets.Button(description=\"Save Marks\")\n",
    "btn_bar_chart = widgets.Button(description=\"Display Bar Chart\")\n",
    "\n",
    "# Creating widgets for student name and mark input\n",
    "name_input = widgets.Text(description=\"Name:\")\n",
    "mark_input = widgets.Text(description=\"Mark:\")\n",
    "# Creating a submit button\n",
    "submit_button = widgets.Button(description=\"Submit Mark\")\n",
    "# Link the button to its event handler\n",
    "submit_button.on_click(submit_student_mark)\n",
    "\n",
    "# Create an output widget\n",
    "output = widgets.Output()\n",
    "output2 = widgets.Output()\n",
    "# Link menu buttons to their event handlers\n",
    "btn_get_mark.on_click(on_get_mark_clicked)\n",
    "btn_display_marks.on_click(on_display_marks_clicked)\n",
    "btn_load.on_click(on_load_clicked)\n",
    "btn_save.on_click(on_save_clicked)\n",
    "btn_bar_chart.on_click(on_bar_chart_clicked)\n",
    "\n",
    "\n",
    "buttons = widgets.HBox([btn_get_mark, btn_display_marks, btn_load, btn_save, btn_bar_chart])\n",
    "\n",
    "display(output2,buttons, output)\n",
    "\n"
   ]
  },
  {
   "cell_type": "code",
   "execution_count": null,
   "id": "ddd188d8",
   "metadata": {},
   "outputs": [],
   "source": []
  }
 ],
 "metadata": {
  "kernelspec": {
   "display_name": "Python 3 (ipykernel)",
   "language": "python",
   "name": "python3"
  },
  "language_info": {
   "codemirror_mode": {
    "name": "ipython",
    "version": 3
   },
   "file_extension": ".py",
   "mimetype": "text/x-python",
   "name": "python",
   "nbconvert_exporter": "python",
   "pygments_lexer": "ipython3",
   "version": "3.10.9"
  }
 },
 "nbformat": 4,
 "nbformat_minor": 5
}
