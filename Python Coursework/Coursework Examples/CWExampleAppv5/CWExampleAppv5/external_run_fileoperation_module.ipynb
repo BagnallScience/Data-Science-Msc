{
 "cells": [
  {
   "cell_type": "code",
   "execution_count": 1,
   "id": "0f2349d0",
   "metadata": {},
   "outputs": [
    {
     "name": "stdout",
     "output_type": "stream",
     "text": [
      "  name  mark\n",
      "0  bob    57\n",
      "1  tim    69\n",
      "2  joe    90\n"
     ]
    }
   ],
   "source": [
    "%run fileOperations.py"
   ]
  },
  {
   "cell_type": "code",
   "execution_count": 2,
   "id": "605c4b26",
   "metadata": {},
   "outputs": [],
   "source": [
    "import sqlite3\n",
    "\n",
    "\"\"\"\n",
    "below code line will create a new database file named marksDB.db in the current working directory.\n",
    "If the file already exists, it will just make a connection to it.\n",
    "\"\"\"\n",
    "conn = sqlite3.connect('marksDB.db')\n",
    "\n",
    "# Perform your database operations here\n",
    "\n",
    "# Close the connection when done\n",
    "conn.close()"
   ]
  }
 ],
 "metadata": {
  "kernelspec": {
   "display_name": "Python 3 (ipykernel)",
   "language": "python",
   "name": "python3"
  },
  "language_info": {
   "codemirror_mode": {
    "name": "ipython",
    "version": 3
   },
   "file_extension": ".py",
   "mimetype": "text/x-python",
   "name": "python",
   "nbconvert_exporter": "python",
   "pygments_lexer": "ipython3",
   "version": "3.10.9"
  }
 },
 "nbformat": 4,
 "nbformat_minor": 5
}
