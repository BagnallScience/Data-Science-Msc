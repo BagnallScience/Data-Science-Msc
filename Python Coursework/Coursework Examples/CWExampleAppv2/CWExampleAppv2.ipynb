{
 "cells": [
  {
   "cell_type": "markdown",
   "id": "dd0a57f2",
   "metadata": {},
   "source": [
    "## Lab4 : CW Example V2\n",
    "- Functions\n",
    "- List \n",
    "- File Operation\n",
    "- Python Module"
   ]
  },
  {
   "cell_type": "code",
   "execution_count": null,
   "id": "51d827e2",
   "metadata": {},
   "outputs": [],
   "source": [
    "# all function defs \n",
    "\n",
    "def display_line(symbol=\"*\",line_size=10):\n",
    "    line=line_size*symbol\n",
    "    print(line)\n",
    "\n",
    "def display_msg(msg=\"hello\"):\n",
    "    display_line()\n",
    "    print(\"!!!\"+msg+\"!!!\")\n",
    "    display_line()\n",
    "\n",
    "def display_menu():\n",
    "    display_msg(\"Menu\")\n",
    "    print(\"h) Say 'hi'\")\n",
    "    print(\"b) Say 'bye'\")\n",
    "    print(\"d) Display Marks\")\n",
    "    print(\"a) Add a new mark\")\n",
    "    print(\"s) Save Student Marks\")\n",
    "    print(\"l) Load Student Marks\")\n",
    "    print(\"r) remote function\")\n",
    "    print(\"e) Exit\")\n",
    "\n",
    "# menu actions     \n",
    "def say_hi():\n",
    "    print(\"hi\")\n",
    "    \n",
    "def say_bye():\n",
    "    print(\"bye\")\n",
    "    \n",
    "def add_mark():\n",
    "    print(\"add a new student mark\")\n",
    "    studentName=input(\"please enter student name\")\n",
    "    studentMark=int(input(\"please enter student mark\"))\n",
    "    marks.append([studentName,studentMark])\n",
    "    display_marks()\n",
    "    \n",
    "def display_marks():\n",
    "    print(\"Student Marks\")\n",
    "    for mark in marks:\n",
    "        print(mark[0],mark[1])\n"
   ]
  },
  {
   "cell_type": "code",
   "execution_count": null,
   "id": "e858513d",
   "metadata": {},
   "outputs": [],
   "source": [
    "############\n",
    "#----Main--- \n",
    "############\n",
    "import fileOperations as fo\n",
    "\n",
    "display_menu()\n",
    "marks=[]\n",
    "\n",
    "while True:\n",
    "    opt=input(\"please enter your option\")\n",
    "    if opt==\"h\":\n",
    "        say_hi()\n",
    "    elif opt==\"b\":\n",
    "        say_bye()\n",
    "    elif opt==\"d\":\n",
    "        display_marks()\n",
    "    elif opt==\"a\":\n",
    "        add_mark()\n",
    "    elif opt==\"l\":\n",
    "        marks=fo.load_marks()\n",
    "    elif opt==\"s\":\n",
    "        fo.save_marks(marks)\n",
    "    elif opt==\"r\":\n",
    "        fo.remote_func()\n",
    "    elif opt==\"e\":\n",
    "        print(\"exit\")\n",
    "        break\n",
    "    else:\n",
    "        print(\"sorry\")\n",
    "\n"
   ]
  }
 ],
 "metadata": {
  "kernelspec": {
   "display_name": "Python 3 (ipykernel)",
   "language": "python",
   "name": "python3"
  },
  "language_info": {
   "codemirror_mode": {
    "name": "ipython",
    "version": 3
   },
   "file_extension": ".py",
   "mimetype": "text/x-python",
   "name": "python",
   "nbconvert_exporter": "python",
   "pygments_lexer": "ipython3",
   "version": "3.10.9"
  }
 },
 "nbformat": 4,
 "nbformat_minor": 5
}
