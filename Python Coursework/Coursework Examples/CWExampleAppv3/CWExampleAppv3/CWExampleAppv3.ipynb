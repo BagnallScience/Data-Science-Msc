{
 "cells": [
  {
   "cell_type": "markdown",
   "id": "dd0a57f2",
   "metadata": {},
   "source": [
    "### Lab6 : CW Example V2\n",
    "- Functions\n",
    "- List \n",
    "- File Operation\n",
    "- Python Module\n",
    "- Visualisation"
   ]
  },
  {
   "cell_type": "code",
   "execution_count": 4,
   "id": "096b6d12",
   "metadata": {
    "scrolled": true
   },
   "outputs": [],
   "source": [
    "#!pip install matplotlib # use the command if it is not installed already \n",
    "import matplotlib.pyplot as plt"
   ]
  },
  {
   "cell_type": "code",
   "execution_count": 5,
   "id": "51d827e2",
   "metadata": {},
   "outputs": [],
   "source": [
    "# all function defs \n",
    "\n",
    "def display_line(symbol=\"*\",line_size=10):\n",
    "    line=line_size*symbol\n",
    "    print(line)\n",
    "\n",
    "def display_msg(msg=\"hello\"):\n",
    "    display_line()\n",
    "    print(\"!!!\"+msg+\"!!!\")\n",
    "    display_line()\n",
    "\n",
    "    \n",
    "def display_menu():\n",
    "    display_msg(\"Menu\")\n",
    "    print(\"d) Display Marks\")\n",
    "    print(\"a) Add a new mark\")\n",
    "    print(\"s) Save Student Marks\")\n",
    "    print(\"l) Load Student Marks\")\n",
    "    print(\"p) Plot Marks\") # new\n",
    "    print(\"e) Exit\")\n",
    "\n",
    "# menu actions     \n",
    "\n",
    "def plot_marks(): # new \n",
    "   \n",
    "    # Separating names and scores\n",
    "    # sNames, sMarks = zip(*marks)  # short way  \n",
    "    sNames=[]\n",
    "    sMarks=[]\n",
    "    for mark in marks:\n",
    "        sNames.append(mark[0])\n",
    "        sMarks.append(mark[1])\n",
    "\n",
    "    # Creating the bar chart\n",
    "    plt.bar(sNames, sMarks)\n",
    "\n",
    "    # Adding title and labels\n",
    "    plt.title('Student Marks')\n",
    "    plt.xlabel('Names')\n",
    "    plt.ylabel('Marks')\n",
    "    plt.show()\n",
    "    \n",
    "def add_mark():\n",
    "    print(\"add a new student mark\")\n",
    "    studentName=input(\"please enter student name\")\n",
    "    studentMark=int(input(\"please enter student mark\"))\n",
    "    marks.append([studentName,studentMark])\n",
    "    display_marks()\n",
    "    \n",
    "def display_marks():\n",
    "    print(\"Student Marks\")\n",
    "    for mark in marks:\n",
    "        print(mark[0],mark[1])\n"
   ]
  },
  {
   "cell_type": "code",
   "execution_count": null,
   "id": "e858513d",
   "metadata": {},
   "outputs": [
    {
     "name": "stdout",
     "output_type": "stream",
     "text": [
      "**********\n",
      "!!!Menu!!!\n",
      "**********\n",
      "d) Display Marks\n",
      "a) Add a new mark\n",
      "s) Save Student Marks\n",
      "l) Load Student Marks\n",
      "p) Plot Marks\n",
      "e) Exit\n"
     ]
    }
   ],
   "source": [
    "############\n",
    "#----Main--- \n",
    "############\n",
    "import fileOperations as fo\n",
    "\n",
    "display_menu()\n",
    "marks=[]\n",
    "\n",
    "while True:\n",
    "    opt=input(\"please enter your option\")\n",
    "    if opt==\"l\":\n",
    "        marks=fo.load_marks()\n",
    "    elif opt==\"d\":\n",
    "        display_marks()\n",
    "    elif opt==\"a\":\n",
    "        add_mark()\n",
    "    elif opt==\"s\":\n",
    "        fo.save_marks(marks)\n",
    "    elif opt==\"p\":\n",
    "        plot_marks()\n",
    "    elif opt==\"e\":\n",
    "        print(\"exit\")\n",
    "        break\n",
    "    else:\n",
    "        print(\"sorry\")\n",
    "\n"
   ]
  },
  {
   "cell_type": "code",
   "execution_count": null,
   "id": "7f93814c",
   "metadata": {},
   "outputs": [],
   "source": []
  }
 ],
 "metadata": {
  "kernelspec": {
   "display_name": "Python 3 (ipykernel)",
   "language": "python",
   "name": "python3"
  },
  "language_info": {
   "codemirror_mode": {
    "name": "ipython",
    "version": 3
   },
   "file_extension": ".py",
   "mimetype": "text/x-python",
   "name": "python",
   "nbconvert_exporter": "python",
   "pygments_lexer": "ipython3",
   "version": "3.9.12"
  }
 },
 "nbformat": 4,
 "nbformat_minor": 5
}
