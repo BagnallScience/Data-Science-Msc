{
 "cells": [
  {
   "cell_type": "markdown",
   "id": "149677d0",
   "metadata": {},
   "source": [
    "# Lab 5: SQLite3 SQL statements"
   ]
  },
  {
   "cell_type": "markdown",
   "id": "019419e3",
   "metadata": {},
   "source": [
    "## SQL Quiz -1 Examples\n",
    "- select\n",
    "- where\n",
    "- group by \n",
    "- order By \n",
    "- having "
   ]
  },
  {
   "cell_type": "code",
   "execution_count": 1,
   "id": "541b02fe",
   "metadata": {
    "scrolled": true
   },
   "outputs": [
    {
     "name": "stdout",
     "output_type": "stream",
     "text": [
      "EMPNO  ENAME   JOB        MGR   HIREDATE    SAL   COMM  DEPTNO\n",
      "-----  ------  ---------  ----  ----------  ----  ----  ------\n",
      "7369   SMITH   CLERK      7902  1980-12-17  800         20    \n",
      "7499   ALLEN   SALESMAN   7698  1981-02-20  1600  300   30    \n",
      "7521   WARD    SALESMAN   7698  1981-02-22  1250  500   30    \n",
      "7566   JONES   MANAGER    7839  1981-04-02  2975        20    \n",
      "7654   MARTIN  SALESMAN   7698  1981-09-28  1250  1400  30    \n",
      "7698   BLAKE   MANAGER    7839  1981-05-01  2850        30    \n",
      "7782   CLARK   MANAGER    7839  1981-06-09  2450        10    \n",
      "7788   SCOTT   ANALYST    7566  1982-12-09  3000        20    \n",
      "7839   KING    PRESIDENT        1981-11-17  5000        10    \n",
      "7844   TURNER  SALESMAN   7698  1981-09-08  1500  0     30    \n",
      "7876   ADAMS   CLERK      7788  1983-01-11  1100        20    \n",
      "7900   JAMES   CLERK      7698  1981-12-03  950         30    \n",
      "7902   FORD    ANALYST    7566  1981-12-13  3000        20    \n",
      "7934   MILLER  CLERK      7782  1982-01-23  1300        10    \n"
     ]
    }
   ],
   "source": [
    "# ex1 \n",
    "\n",
    "SQLite3Command = \".mode column\\n\"\n",
    "\n",
    "SQLstr = \"\"\"\n",
    "SELECT * \n",
    "FROM emp;\n",
    "\"\"\"\n",
    "sqlfile = open(\"temp.sql\", \"w\")\n",
    "sqlfile.write(SQLite3Command + SQLstr)\n",
    "sqlfile.close()\n",
    "\n",
    "!sqlite3 mydatabase.db <temp.sql"
   ]
  },
  {
   "cell_type": "code",
   "execution_count": 2,
   "id": "38b7e893",
   "metadata": {
    "scrolled": false
   },
   "outputs": [
    {
     "name": "stdout",
     "output_type": "stream",
     "text": [
      "ENAME  SAL \n",
      "-----  ----\n",
      "JONES  2975\n",
      "BLAKE  2850\n",
      "CLARK  2450\n",
      "SCOTT  3000\n",
      "KING   5000\n",
      "FORD   3000\n"
     ]
    }
   ],
   "source": [
    "# ex2 \n",
    "\n",
    "SQLite3Command = \".mode column\\n\"\n",
    "\n",
    "SQLstr = \"\"\"\n",
    "SELECT ename, sal \n",
    "FROM emp\n",
    "WHERE sal>2000\n",
    "\"\"\"\n",
    "sqlfile = open(\"temp.sql\", \"w\")\n",
    "sqlfile.write(SQLite3Command + SQLstr)\n",
    "sqlfile.close()\n",
    "\n",
    "!sqlite3 mydatabase.db <temp.sql"
   ]
  },
  {
   "cell_type": "code",
   "execution_count": 4,
   "id": "28f7e03f",
   "metadata": {
    "scrolled": false
   },
   "outputs": [
    {
     "name": "stdout",
     "output_type": "stream",
     "text": [
      "ENAME  SAL \n",
      "-----  ----\n",
      "KING   5000\n",
      "SCOTT  3000\n",
      "FORD   3000\n",
      "JONES  2975\n",
      "BLAKE  2850\n",
      "CLARK  2450\n"
     ]
    }
   ],
   "source": [
    "# ex3 \n",
    "\n",
    "SQLite3Command = \".mode column\\n\"\n",
    "\n",
    "SQLstr = \"\"\"\n",
    "SELECT ename, sal \n",
    "FROM emp\n",
    "WHERE sal>2000\n",
    "ORDER BY sal DESC;\n",
    "\"\"\"\n",
    "sqlfile = open(\"temp.sql\", \"w\")\n",
    "sqlfile.write(SQLite3Command + SQLstr)\n",
    "sqlfile.close()\n",
    "\n",
    "!sqlite3 mydatabase.db <temp.sql"
   ]
  },
  {
   "cell_type": "code",
   "execution_count": 9,
   "id": "bda76cd6",
   "metadata": {
    "scrolled": false
   },
   "outputs": [
    {
     "name": "stdout",
     "output_type": "stream",
     "text": [
      "DEPTNO  Number of Employee  Total SAL\n",
      "------  ------------------  ---------\n",
      "20      4                   10075    \n",
      "10      3                   8750     \n",
      "30      5                   8450     \n"
     ]
    }
   ],
   "source": [
    "# ex4 \n",
    "\n",
    "SQLite3Command = \".mode column\\n\"\n",
    "\n",
    "SQLstr = \"\"\"\n",
    "SELECT deptno, COUNT(ename) AS \"Number of Employee\" , SUM(sal) AS \"Total SAL\"\n",
    "FROM emp\n",
    "WHERE sal>1000\n",
    "GROUP BY deptno\n",
    "ORDER BY \"Total SAL\" DESC;\n",
    "\n",
    "\"\"\"\n",
    "sqlfile = open(\"temp.sql\", \"w\")\n",
    "sqlfile.write(SQLite3Command + SQLstr)\n",
    "sqlfile.close()\n",
    "\n",
    "!sqlite3 mydatabase.db <temp.sql"
   ]
  },
  {
   "cell_type": "code",
   "execution_count": 10,
   "id": "e80faa4b",
   "metadata": {
    "scrolled": false
   },
   "outputs": [
    {
     "name": "stdout",
     "output_type": "stream",
     "text": [
      "DEPTNO  Number of Employee  Total SAL\n",
      "------  ------------------  ---------\n",
      "20      4                   10075    \n",
      "30      5                   8450     \n"
     ]
    }
   ],
   "source": [
    "# ex5 \n",
    "\n",
    "SQLite3Command = \".mode column\\n\"\n",
    "\n",
    "SQLstr = \"\"\"\n",
    "SELECT deptno, COUNT(ename) AS \"Number of Employee\" , SUM(sal) AS \"Total SAL\"\n",
    "FROM emp\n",
    "WHERE sal>1000\n",
    "GROUP BY deptno\n",
    "HAVING \"Number of Employee\" >3\n",
    "ORDER BY \"Total SAL\" DESC;\n",
    "\n",
    "\"\"\"\n",
    "sqlfile = open(\"temp.sql\", \"w\")\n",
    "sqlfile.write(SQLite3Command + SQLstr)\n",
    "sqlfile.close()\n",
    "\n",
    "!sqlite3 mydatabase.db <temp.sql"
   ]
  },
  {
   "cell_type": "code",
   "execution_count": 15,
   "id": "b9577fe2",
   "metadata": {
    "scrolled": false
   },
   "outputs": [
    {
     "name": "stdout",
     "output_type": "stream",
     "text": [
      "DEPTNO  ENAME  SAL \n",
      "------  -----  ----\n",
      "30      BLAKE  2850\n",
      "10      CLARK  2450\n",
      "20      ADAMS  1100\n"
     ]
    }
   ],
   "source": [
    "# ex6 \n",
    "\n",
    "SQLite3Command = \".mode column\\n\"\n",
    "\n",
    "SQLstr = \"\"\"\n",
    "SELECT deptno, ename , sal\n",
    "FROM emp\n",
    "WHERE ename LIKE \"__A%\"\n",
    "\n",
    "\"\"\"\n",
    "sqlfile = open(\"temp.sql\", \"w\")\n",
    "sqlfile.write(SQLite3Command + SQLstr)\n",
    "sqlfile.close()\n",
    "\n",
    "!sqlite3 mydatabase.db <temp.sql"
   ]
  },
  {
   "cell_type": "markdown",
   "id": "72959829",
   "metadata": {},
   "source": [
    "## SQL Quiz 2 Examples\n",
    "- Join \n",
    "- Subqueries "
   ]
  },
  {
   "cell_type": "code",
   "execution_count": 22,
   "id": "eaad3ea3",
   "metadata": {
    "scrolled": false
   },
   "outputs": [
    {
     "name": "stdout",
     "output_type": "stream",
     "text": [
      "EMPNO  ENAME   JOB        MGR   HIREDATE    SAL   COMM  DEPTNO\n",
      "-----  ------  ---------  ----  ----------  ----  ----  ------\n",
      "7369   SMITH   CLERK      7902  1980-12-17  800         20    \n",
      "7499   ALLEN   SALESMAN   7698  1981-02-20  1600  300   30    \n",
      "7521   WARD    SALESMAN   7698  1981-02-22  1250  500   30    \n",
      "7566   JONES   MANAGER    7839  1981-04-02  2975        20    \n",
      "7654   MARTIN  SALESMAN   7698  1981-09-28  1250  1400  30    \n",
      "7698   BLAKE   MANAGER    7839  1981-05-01  2850        30    \n",
      "7782   CLARK   MANAGER    7839  1981-06-09  2450        10    \n",
      "7788   SCOTT   ANALYST    7566  1982-12-09  3000        20    \n",
      "7839   KING    PRESIDENT        1981-11-17  5000        10    \n",
      "7844   TURNER  SALESMAN   7698  1981-09-08  1500  0     30    \n",
      "7876   ADAMS   CLERK      7788  1983-01-11  1100        20    \n",
      "7900   JAMES   CLERK      7698  1981-12-03  950         30    \n",
      "7902   FORD    ANALYST    7566  1981-12-13  3000        20    \n",
      "7934   MILLER  CLERK      7782  1982-01-23  1300        10    \n"
     ]
    }
   ],
   "source": [
    "# ex0 \n",
    "\n",
    "SQLite3Command = \".mode column\\n\"\n",
    "\n",
    "SQLstr = \"\"\"\n",
    "SELECT *\n",
    "FROM emp;\n",
    "\n",
    "\"\"\"\n",
    "sqlfile = open(\"temp.sql\", \"w\")\n",
    "sqlfile.write(SQLite3Command + SQLstr)\n",
    "sqlfile.close()\n",
    "\n",
    "!sqlite3 mydatabase.db <temp.sql"
   ]
  },
  {
   "cell_type": "code",
   "execution_count": 23,
   "id": "86fa5ba9",
   "metadata": {
    "scrolled": true
   },
   "outputs": [
    {
     "name": "stdout",
     "output_type": "stream",
     "text": [
      "DEPTNO  DNAME       LOC     \n",
      "------  ----------  --------\n",
      "10      ACCOUNTING  NEW YORK\n",
      "20      RESEARCH    DALLAS  \n",
      "30      SALES       CHICAGO \n",
      "40      OPERATIONS  BOSTON  \n"
     ]
    }
   ],
   "source": [
    "# ex0 \n",
    "\n",
    "SQLite3Command = \".mode column\\n\"\n",
    "\n",
    "SQLstr = \"\"\"\n",
    "SELECT *\n",
    "FROM dept;\n",
    "\n",
    "\"\"\"\n",
    "sqlfile = open(\"temp.sql\", \"w\")\n",
    "sqlfile.write(SQLite3Command + SQLstr)\n",
    "sqlfile.close()\n",
    "\n",
    "!sqlite3 mydatabase.db <temp.sql"
   ]
  },
  {
   "cell_type": "code",
   "execution_count": 26,
   "id": "f36fa57f",
   "metadata": {
    "scrolled": true
   },
   "outputs": [
    {
     "name": "stdout",
     "output_type": "stream",
     "text": [
      "ENAME   DNAME     \n",
      "------  ----------\n",
      "SMITH   RESEARCH  \n",
      "ALLEN   SALES     \n",
      "WARD    SALES     \n",
      "JONES   RESEARCH  \n",
      "MARTIN  SALES     \n",
      "BLAKE   SALES     \n",
      "CLARK   ACCOUNTING\n",
      "SCOTT   RESEARCH  \n",
      "KING    ACCOUNTING\n",
      "TURNER  SALES     \n",
      "ADAMS   RESEARCH  \n",
      "JAMES   SALES     \n",
      "FORD    RESEARCH  \n",
      "MILLER  ACCOUNTING\n"
     ]
    }
   ],
   "source": [
    "# ex1a inner join (implicit)\n",
    "\n",
    "SQLite3Command = \".mode column\\n\"\n",
    "\n",
    "SQLstr = \"\"\"\n",
    "SELECT ename,dname\n",
    "FROM emp,dept\n",
    "WHERE emp.deptno=dept.deptno\n",
    "\n",
    "\"\"\"\n",
    "sqlfile = open(\"temp.sql\", \"w\")\n",
    "sqlfile.write(SQLite3Command + SQLstr)\n",
    "sqlfile.close()\n",
    "\n",
    "!sqlite3 mydatabase.db <temp.sql"
   ]
  },
  {
   "cell_type": "code",
   "execution_count": 27,
   "id": "12e09800",
   "metadata": {
    "scrolled": true
   },
   "outputs": [
    {
     "name": "stdout",
     "output_type": "stream",
     "text": [
      "ENAME   DNAME     \n",
      "------  ----------\n",
      "SMITH   RESEARCH  \n",
      "ALLEN   SALES     \n",
      "WARD    SALES     \n",
      "JONES   RESEARCH  \n",
      "MARTIN  SALES     \n",
      "BLAKE   SALES     \n",
      "CLARK   ACCOUNTING\n",
      "SCOTT   RESEARCH  \n",
      "KING    ACCOUNTING\n",
      "TURNER  SALES     \n",
      "ADAMS   RESEARCH  \n",
      "JAMES   SALES     \n",
      "FORD    RESEARCH  \n",
      "MILLER  ACCOUNTING\n"
     ]
    }
   ],
   "source": [
    "# ex1b inner join (explicit )\n",
    "\n",
    "SQLite3Command = \".mode column\\n\"\n",
    "\n",
    "SQLstr = \"\"\"\n",
    "SELECT ename,dname\n",
    "FROM emp INNER JOIN dept\n",
    "ON emp.deptno=dept.deptno\n",
    "\n",
    "\"\"\"\n",
    "sqlfile = open(\"temp.sql\", \"w\")\n",
    "sqlfile.write(SQLite3Command + SQLstr)\n",
    "sqlfile.close()\n",
    "\n",
    "!sqlite3 mydatabase.db <temp.sql"
   ]
  },
  {
   "cell_type": "code",
   "execution_count": 28,
   "id": "0f61379c",
   "metadata": {
    "scrolled": true
   },
   "outputs": [
    {
     "name": "stdout",
     "output_type": "stream",
     "text": [
      "ENAME   DNAME     \n",
      "------  ----------\n",
      "CLARK   ACCOUNTING\n",
      "KING    ACCOUNTING\n",
      "MILLER  ACCOUNTING\n",
      "ADAMS   RESEARCH  \n",
      "FORD    RESEARCH  \n",
      "JONES   RESEARCH  \n",
      "SCOTT   RESEARCH  \n",
      "SMITH   RESEARCH  \n",
      "ALLEN   SALES     \n",
      "BLAKE   SALES     \n",
      "JAMES   SALES     \n",
      "MARTIN  SALES     \n",
      "TURNER  SALES     \n",
      "WARD    SALES     \n",
      "        OPERATIONS\n"
     ]
    }
   ],
   "source": [
    "# ex2 outter join (explicit )\n",
    "\n",
    "SQLite3Command = \".mode column\\n\"\n",
    "\n",
    "SQLstr = \"\"\"\n",
    "SELECT ename,dname\n",
    "FROM dept LEFT JOIN emp\n",
    "ON emp.deptno=dept.deptno\n",
    "\n",
    "\"\"\"\n",
    "sqlfile = open(\"temp.sql\", \"w\")\n",
    "sqlfile.write(SQLite3Command + SQLstr)\n",
    "sqlfile.close()\n",
    "\n",
    "!sqlite3 mydatabase.db <temp.sql"
   ]
  },
  {
   "cell_type": "code",
   "execution_count": 29,
   "id": "5650dd93",
   "metadata": {
    "scrolled": false
   },
   "outputs": [
    {
     "name": "stdout",
     "output_type": "stream",
     "text": [
      "ENAME   ENAME\n",
      "------  -----\n",
      "SMITH   FORD \n",
      "ALLEN   BLAKE\n",
      "WARD    BLAKE\n",
      "JONES   KING \n",
      "MARTIN  BLAKE\n",
      "BLAKE   KING \n",
      "CLARK   KING \n",
      "SCOTT   JONES\n",
      "TURNER  BLAKE\n",
      "ADAMS   SCOTT\n",
      "JAMES   BLAKE\n",
      "FORD    JONES\n",
      "MILLER  CLARK\n"
     ]
    }
   ],
   "source": [
    "# ex3 self join (explicit )\n",
    "\n",
    "SQLite3Command = \".mode column\\n\"\n",
    "\n",
    "SQLstr = \"\"\"\n",
    "SELECT E.ename,M.ename\n",
    "FROM emp E INNER JOIN emp M \n",
    "ON E.mgr=M.empno\n",
    "\n",
    "\"\"\"\n",
    "sqlfile = open(\"temp.sql\", \"w\")\n",
    "sqlfile.write(SQLite3Command + SQLstr)\n",
    "sqlfile.close()\n",
    "\n",
    "!sqlite3 mydatabase.db <temp.sql"
   ]
  },
  {
   "cell_type": "code",
   "execution_count": 32,
   "id": "615b27d8",
   "metadata": {
    "scrolled": false
   },
   "outputs": [
    {
     "name": "stdout",
     "output_type": "stream",
     "text": [
      "ENAME\n",
      "-----\n",
      "KING \n"
     ]
    }
   ],
   "source": [
    "# ex4 SUB Query\n",
    "\n",
    "SQLite3Command = \".mode column\\n\"\n",
    "\n",
    "SQLstr = \"\"\"\n",
    "SELECT ename\n",
    "FROM emp \n",
    "WHERE sal=(SELECT max(sal)\n",
    "           FROM emp)\n",
    ";\n",
    "\"\"\"\n",
    "sqlfile = open(\"temp.sql\", \"w\")\n",
    "sqlfile.write(SQLite3Command + SQLstr)\n",
    "sqlfile.close()\n",
    "\n",
    "!sqlite3 mydatabase.db <temp.sql"
   ]
  },
  {
   "cell_type": "code",
   "execution_count": 38,
   "id": "68c3562e",
   "metadata": {
    "scrolled": false
   },
   "outputs": [
    {
     "name": "stdout",
     "output_type": "stream",
     "text": [
      "DNAME     \n",
      "----------\n",
      "ACCOUNTING\n",
      "RESEARCH  \n",
      "SALES     \n"
     ]
    }
   ],
   "source": [
    "# ex5 SUB Query\n",
    "\n",
    "SQLite3Command = \".mode column\\n\"\n",
    "\n",
    "SQLstr = \"\"\"\n",
    "SELECT dname\n",
    "FROM dept\n",
    "WHERE deptno IN (SELECT deptno\n",
    "FROM emp\n",
    "WHERE job=\"CLERK\")\n",
    ";\n",
    "\"\"\"\n",
    "sqlfile = open(\"temp.sql\", \"w\")\n",
    "sqlfile.write(SQLite3Command + SQLstr)\n",
    "sqlfile.close()\n",
    "\n",
    "!sqlite3 mydatabase.db <temp.sql"
   ]
  },
  {
   "cell_type": "code",
   "execution_count": 39,
   "id": "1bb67639",
   "metadata": {
    "scrolled": true
   },
   "outputs": [
    {
     "name": "stdout",
     "output_type": "stream",
     "text": [
      "DNAME     \n",
      "----------\n",
      "ACCOUNTING\n",
      "RESEARCH  \n",
      "SALES     \n"
     ]
    }
   ],
   "source": [
    "# This line is a shell command to execute an SQL query using SQLite3 on a database named 'mydatabase.db'.\n",
    "# The query is read from a file named 'ex1.sql'.\n",
    "!sqlite3 mydatabase.db <ex1.sql\n"
   ]
  },
  {
   "cell_type": "code",
   "execution_count": null,
   "id": "2725bc82",
   "metadata": {},
   "outputs": [],
   "source": []
  }
 ],
 "metadata": {
  "kernelspec": {
   "display_name": "Python 3 (ipykernel)",
   "language": "python",
   "name": "python3"
  },
  "language_info": {
   "codemirror_mode": {
    "name": "ipython",
    "version": 3
   },
   "file_extension": ".py",
   "mimetype": "text/x-python",
   "name": "python",
   "nbconvert_exporter": "python",
   "pygments_lexer": "ipython3",
   "version": "3.10.9"
  }
 },
 "nbformat": 4,
 "nbformat_minor": 5
}
